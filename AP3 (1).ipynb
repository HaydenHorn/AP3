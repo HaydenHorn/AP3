{
 "cells": [
  {
   "cell_type": "code",
   "execution_count": 12,
   "id": "922954fc",
   "metadata": {},
   "outputs": [],
   "source": [
    "import math"
   ]
  },
  {
   "cell_type": "code",
   "execution_count": 19,
   "id": "beec8e6b",
   "metadata": {},
   "outputs": [
    {
     "name": "stdout",
     "output_type": "stream",
     "text": [
      "First side: 5\n",
      "Second side: 5\n",
      "Third side: 5\n",
      "the perimeter is:  15\n",
      "the area is:  10.825317547305483\n"
     ]
    }
   ],
   "source": [
    "a=int(input(\"First side: \"))\n",
    "b=int(input(\"Second side: \"))\n",
    "c=int(input(\"Third side: \"))\n",
    "s=(a+b+c)/2\n",
    "area=math.sqrt(s*(s-a)*(s-b)*(s-c))\n",
    "p=(a+b+c)\n",
    "print(\"the perimeter is: \", p)\n",
    "print(\"the area is: \", area)"
   ]
  },
  {
   "cell_type": "code",
   "execution_count": 18,
   "id": "d8186a2a",
   "metadata": {},
   "outputs": [
    {
     "name": "stdout",
     "output_type": "stream",
     "text": [
      "Enter any number 1-1000: 749\n",
      "Too High, Guess again!\n",
      "Enter any number 1-1000: 1\n",
      "Too low! Try again\n",
      "Enter any number 1-1000: 557\n",
      "Too High, Guess again!\n",
      "Enter any number 1-1000: 400\n",
      "Too High, Guess again!\n",
      "Enter any number 1-1000: 300\n",
      "Too High, Guess again!\n",
      "Enter any number 1-1000: 200\n",
      "Too High, Guess again!\n",
      "Enter any number 1-1000: 100\n",
      "Too low! Try again\n",
      "Enter any number 1-1000: 123\n",
      "Too low! Try again\n",
      "Enter any number 1-1000: 156\n",
      "Too low! Try again\n",
      "Enter any number 1-1000: 198\n",
      "Too High, Guess again!\n",
      "Enter any number 1-1000: 186\n",
      "Too High, Guess again!\n",
      "Enter any number 1-1000: 175\n",
      "Too High, Guess again!\n",
      "Enter any number 1-1000: 168\n",
      "Too low! Try again\n",
      "Enter any number 1-1000: 170\n",
      "Too low! Try again\n",
      "Enter any number 1-1000: 171\n",
      "Too low! Try again\n",
      "Enter any number 1-1000: 173\n",
      "You won! You took 15 chances\n"
     ]
    }
   ],
   "source": [
    "import random\n",
    "number=random.randint(1,1000)\n",
    "Entered_number= None\n",
    "time=0\n",
    "while Entered_number!=number:\n",
    "    Entered_number= int(input(\"Enter any number 1-1000: \"))\n",
    "    if Entered_number==number:\n",
    "        print(f\"You won! You took {time} chances\")\n",
    "    elif Entered_number>number:\n",
    "        print(\"Too High, Guess again!\")\n",
    "    else: \n",
    "        print(\"Too low! Try again\")\n",
    "    time+=1"
   ]
  },
  {
   "cell_type": "code",
   "execution_count": 31,
   "id": "a848969f",
   "metadata": {},
   "outputs": [
    {
     "name": "stdout",
     "output_type": "stream",
     "text": [
      "The mean temperature for the past 7 days is 64\n"
     ]
    }
   ],
   "source": [
    "\n",
    "temperature = [67,72,61,74,60,58,62]\n",
    "\n",
    "mean= sum(temperature)//7\n",
    "\n",
    "print (\"The mean temperature for the past 7 days is\", mean)"
   ]
  },
  {
   "cell_type": "markdown",
   "id": "8eae4eb4",
   "metadata": {},
   "source": [
    "## Assignment 3\n",
    "## Hayden Horn\n",
    "## C.S. Fall Semester @ Bellarmine"
   ]
  },
  {
   "cell_type": "code",
   "execution_count": null,
   "id": "32088f8b",
   "metadata": {},
   "outputs": [],
   "source": []
  }
 ],
 "metadata": {
  "kernelspec": {
   "display_name": "Python 3",
   "language": "python",
   "name": "python3"
  },
  "language_info": {
   "codemirror_mode": {
    "name": "ipython",
    "version": 3
   },
   "file_extension": ".py",
   "mimetype": "text/x-python",
   "name": "python",
   "nbconvert_exporter": "python",
   "pygments_lexer": "ipython3",
   "version": "3.8.8"
  }
 },
 "nbformat": 4,
 "nbformat_minor": 5
}
